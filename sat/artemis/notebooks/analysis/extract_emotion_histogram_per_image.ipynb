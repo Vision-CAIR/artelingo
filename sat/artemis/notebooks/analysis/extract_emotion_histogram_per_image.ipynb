{
 "cells": [
  {
   "cell_type": "markdown",
   "metadata": {},
   "source": [
    "## Given a collection of artworks (e.g., images of ArtEmis) for which humans have indicated an emotion, extract for each artwork a _histogram_ that indicates the human's emotional preference. \n",
    "- you will use this to train an image2emotion classifier"
   ]
  },
  {
   "cell_type": "code",
   "execution_count": 1,
   "metadata": {},
   "outputs": [],
   "source": [
    "import pandas as pd\n",
    "import numpy as np\n",
    "from artemis.emotions import emotion_to_int"
   ]
  },
  {
   "cell_type": "code",
   "execution_count": 3,
   "metadata": {},
   "outputs": [],
   "source": [
    "#\n",
    "# SET YOUR PATHS.\n",
    "#\n",
    "\n",
    "\n",
    "#\n",
    "# I use the ArtEmis dataset with _minimal_ preprocessing\n",
    "# as prepared by the script preprocess_artemis_data.py --preprocess-for-deep-nets **False** (see STEP.1 at top-README)\n",
    "# Note, that here you can also use the directly downloaded \"artemis_dataset_release_v0.csv'\" since the \n",
    "# preprocess_artemis_data.py does not change the emotions of the \"raw\" data.\n",
    "# \n",
    "\n",
    "artemis_csv = '/home/optas/DATA/OUT/artemis/preprocessed_data/for_analysis/artemis_preprocessed.csv'\n",
    "# or\n",
    "# artemis_csv = '/home/optas/DATA/OUT/artemis/official_data/artemis_dataset_release_v0.csv'\n",
    "\n",
    "\n",
    "save_file = '../../data/image-emotion-histogram.csv'   # where to save the result."
   ]
  },
  {
   "cell_type": "code",
   "execution_count": 5,
   "metadata": {},
   "outputs": [
    {
     "name": "stdout",
     "output_type": "stream",
     "text": [
      "454684\n",
      "Index(['art_style', 'painting', 'emotion', 'utterance', 'repetition', 'split',\n",
      "       'tokens', 'tokens_len', 'utterance_spelled', 'tokens_encoded',\n",
      "       'emotion_label'],\n",
      "      dtype='object')\n",
      "\n",
      "Unique Emotions: ['something else' 'sadness' 'contentment' 'awe' 'amusement' 'excitement'\n",
      " 'fear' 'disgust' 'anger']\n"
     ]
    }
   ],
   "source": [
    "df = pd.read_csv(artemis_csv)\n",
    "print(len(df))\n",
    "print(df.columns)\n",
    "u_emo = df.emotion.unique()\n",
    "\n",
    "print('\\nUnique Emotions:', u_emo)\n",
    "n_emotions = len(u_emo)"
   ]
  },
  {
   "cell_type": "code",
   "execution_count": 6,
   "metadata": {},
   "outputs": [],
   "source": [
    "df['emotion_label'] = df.emotion.apply(emotion_to_int)"
   ]
  },
  {
   "cell_type": "code",
   "execution_count": 7,
   "metadata": {},
   "outputs": [],
   "source": [
    "def collect_image_distribution(g):\n",
    "    \"\"\" Apply to each pandas group:g (artwork) to extract an *unormalized* distribution of the emotions indicated.\n",
    "    \"\"\"\n",
    "    image_distribution = np.zeros(n_emotions, dtype=np.float32)\n",
    "    for l in g.emotion_label:\n",
    "        image_distribution[l] += 1\n",
    "    return image_distribution"
   ]
  },
  {
   "cell_type": "code",
   "execution_count": 8,
   "metadata": {},
   "outputs": [],
   "source": [
    "image_groups = df.groupby(['art_style', 'painting'])  # each group is now a unique artwork\n",
    "image_distibutions = image_groups.apply(collect_image_distribution)"
   ]
  },
  {
   "cell_type": "code",
   "execution_count": 9,
   "metadata": {},
   "outputs": [],
   "source": [
    "# assert each image has at least 5 (human) votes!\n",
    "x = image_distibutions.apply(sum)\n",
    "assert all(x.values >= 5)"
   ]
  },
  {
   "cell_type": "code",
   "execution_count": 10,
   "metadata": {},
   "outputs": [],
   "source": [
    "data = []\n",
    "for row in image_distibutions.items():\n",
    "    style = row[0][0]\n",
    "    name = row[0][1]\n",
    "    dist = row[1]\n",
    "    data.append([style, name, dist.tolist()])    \n",
    "data = pd.DataFrame(data, columns=['art_style', 'painting',  'emotion_histogram'])"
   ]
  },
  {
   "cell_type": "code",
   "execution_count": 9,
   "metadata": {},
   "outputs": [
    {
     "data": {
      "text/html": [
       "<div>\n",
       "<style scoped>\n",
       "    .dataframe tbody tr th:only-of-type {\n",
       "        vertical-align: middle;\n",
       "    }\n",
       "\n",
       "    .dataframe tbody tr th {\n",
       "        vertical-align: top;\n",
       "    }\n",
       "\n",
       "    .dataframe thead th {\n",
       "        text-align: right;\n",
       "    }\n",
       "</style>\n",
       "<table border=\"1\" class=\"dataframe\">\n",
       "  <thead>\n",
       "    <tr style=\"text-align: right;\">\n",
       "      <th></th>\n",
       "      <th>art_style</th>\n",
       "      <th>painting</th>\n",
       "      <th>emotion_histogram</th>\n",
       "    </tr>\n",
       "  </thead>\n",
       "  <tbody>\n",
       "    <tr>\n",
       "      <th>0</th>\n",
       "      <td>Abstract_Expressionism</td>\n",
       "      <td>aaron-siskind_acolman-1-1955</td>\n",
       "      <td>[1.0, 0.0, 1.0, 0.0, 0.0, 0.0, 2.0, 0.0, 1.0]</td>\n",
       "    </tr>\n",
       "    <tr>\n",
       "      <th>1</th>\n",
       "      <td>Abstract_Expressionism</td>\n",
       "      <td>aaron-siskind_chicago-1951</td>\n",
       "      <td>[0.0, 1.0, 1.0, 0.0, 0.0, 0.0, 2.0, 1.0, 1.0]</td>\n",
       "    </tr>\n",
       "    <tr>\n",
       "      <th>2</th>\n",
       "      <td>Abstract_Expressionism</td>\n",
       "      <td>aaron-siskind_chicago-6-1961</td>\n",
       "      <td>[0.0, 0.0, 0.0, 0.0, 0.0, 0.0, 3.0, 0.0, 2.0]</td>\n",
       "    </tr>\n",
       "    <tr>\n",
       "      <th>3</th>\n",
       "      <td>Abstract_Expressionism</td>\n",
       "      <td>aaron-siskind_feet-102-1957</td>\n",
       "      <td>[0.0, 0.0, 1.0, 0.0, 0.0, 2.0, 0.0, 0.0, 2.0]</td>\n",
       "    </tr>\n",
       "    <tr>\n",
       "      <th>4</th>\n",
       "      <td>Abstract_Expressionism</td>\n",
       "      <td>aaron-siskind_gloucester-16a-1944</td>\n",
       "      <td>[0.0, 0.0, 0.0, 0.0, 0.0, 0.0, 1.0, 0.0, 4.0]</td>\n",
       "    </tr>\n",
       "  </tbody>\n",
       "</table>\n",
       "</div>"
      ],
      "text/plain": [
       "                art_style                           painting  \\\n",
       "0  Abstract_Expressionism       aaron-siskind_acolman-1-1955   \n",
       "1  Abstract_Expressionism         aaron-siskind_chicago-1951   \n",
       "2  Abstract_Expressionism       aaron-siskind_chicago-6-1961   \n",
       "3  Abstract_Expressionism        aaron-siskind_feet-102-1957   \n",
       "4  Abstract_Expressionism  aaron-siskind_gloucester-16a-1944   \n",
       "\n",
       "                               emotion_histogram  \n",
       "0  [1.0, 0.0, 1.0, 0.0, 0.0, 0.0, 2.0, 0.0, 1.0]  \n",
       "1  [0.0, 1.0, 1.0, 0.0, 0.0, 0.0, 2.0, 1.0, 1.0]  \n",
       "2  [0.0, 0.0, 0.0, 0.0, 0.0, 0.0, 3.0, 0.0, 2.0]  \n",
       "3  [0.0, 0.0, 1.0, 0.0, 0.0, 2.0, 0.0, 0.0, 2.0]  \n",
       "4  [0.0, 0.0, 0.0, 0.0, 0.0, 0.0, 1.0, 0.0, 4.0]  "
      ]
     },
     "execution_count": 9,
     "metadata": {},
     "output_type": "execute_result"
    }
   ],
   "source": [
    "data.head()"
   ]
  },
  {
   "cell_type": "code",
   "execution_count": 13,
   "metadata": {},
   "outputs": [
    {
     "data": {
      "text/plain": [
       "108425    8\n",
       "108426    5\n",
       "108427    2\n",
       "108428    5\n",
       "227077    8\n",
       "Name: emotion_label, dtype: int64"
      ]
     },
     "execution_count": 13,
     "metadata": {},
     "output_type": "execute_result"
    }
   ],
   "source": [
    "# Quick check of third row above.\n",
    "mask = (df.art_style == 'Abstract_Expressionism') &  (df.painting == 'aaron-siskind_feet-102-1957')\n",
    "df[mask]['emotion_label']"
   ]
  },
  {
   "cell_type": "code",
   "execution_count": 11,
   "metadata": {},
   "outputs": [],
   "source": [
    "data.to_csv(save_file, index=False)"
   ]
  },
  {
   "cell_type": "code",
   "execution_count": 12,
   "metadata": {},
   "outputs": [],
   "source": [
    "## OK now you go and run the next notebook to use this histograms to train an Image-2-Emotion classifier!"
   ]
  }
 ],
 "metadata": {
  "kernelspec": {
   "display_name": "artemis",
   "language": "python",
   "name": "artemis"
  },
  "language_info": {
   "codemirror_mode": {
    "name": "ipython",
    "version": 3
   },
   "file_extension": ".py",
   "mimetype": "text/x-python",
   "name": "python",
   "nbconvert_exporter": "python",
   "pygments_lexer": "ipython3",
   "version": "3.6.12"
  }
 },
 "nbformat": 4,
 "nbformat_minor": 2
}
